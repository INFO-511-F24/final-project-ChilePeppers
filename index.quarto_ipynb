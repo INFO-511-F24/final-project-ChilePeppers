{
  "cells": [
    {
      "cell_type": "raw",
      "metadata": {},
      "source": [
        "---\n",
        "title: EV Charging Trends and Predictions\n",
        "subtitle: INFO 511 - Fall 2024 - Final Project\n",
        "author:\n",
        "  - name: ChilePeppers\n",
        "    affiliations:\n",
        "      - name: School of Information, University of Arizona\n",
        "description: |\n",
        "  This project explores trends in electric vehicle (EV) charging efficiency\n",
        "  and builds predictive models to understand charging behaviors.\n",
        "format:\n",
        "  html:\n",
        "    code-tools: true\n",
        "    code-overflow: wrap\n",
        "    embed-resources: true\n",
        "editor: visual\n",
        "execute:\n",
        "  warning: false\n",
        "  echo: false\n",
        "---"
      ],
      "id": "8b17df1d"
    }
  ],
  "metadata": {
    "kernelspec": {
      "display_name": "Python 3",
      "language": "python",
      "name": "python3"
    }
  },
  "nbformat": 4,
  "nbformat_minor": 5
}