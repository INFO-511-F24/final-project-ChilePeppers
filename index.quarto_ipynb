{
  "cells": [
    {
      "cell_type": "markdown",
      "metadata": {},
      "source": [
        "---\n",
        "title: \"Project Title\"\n",
        "subtitle: \"INFO 511 - Fall 2024 - Final Project\"\n",
        "author: \n",
        "  - name: \"Team name\"\n",
        "    affiliations:\n",
        "      - name: \"School of Information, University of Arizona\"\n",
        "description: \"Project description\"\n",
        "format:\n",
        "   html:\n",
        "    code-tools: true\n",
        "    code-overflow: wrap\n",
        "    embed-resources: true\n",
        "editor: visual\n",
        "execute:\n",
        "  warning: false\n",
        "  echo: false\n",
        "jupyter: python3\n",
        "---\n",
        "\n",
        "\n",
        "\n",
        "\n",
        "## Abstract\n",
        "\n",
        "Add project abstract here."
      ],
      "id": "d4a602eb"
    }
  ],
  "metadata": {
    "kernelspec": {
      "display_name": "Python 3",
      "language": "python",
      "name": "python3"
    }
  },
  "nbformat": 4,
  "nbformat_minor": 5
}