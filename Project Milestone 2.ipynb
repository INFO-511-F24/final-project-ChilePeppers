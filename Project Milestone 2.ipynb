{
 "cells": [
  {
   "cell_type": "markdown",
   "metadata": {},
   "source": [
    "# Dataset 1\n",
    "* EV Charging Data"
   ]
  },
  {
   "cell_type": "code",
   "execution_count": null,
   "metadata": {},
   "outputs": [],
   "source": []
  },
  {
   "cell_type": "markdown",
   "metadata": {},
   "source": [
    "# Dataset 2\n",
    "* Spotify Data"
   ]
  },
  {
   "cell_type": "markdown",
   "metadata": {},
   "source": [
    "* Source of the Data:\n",
    "https://www.kaggle.com/datasets/abdulszz/spotify-most-streamed-songs\n",
    "This dataset originates from Apple's and Spotify's public API. Each track’s streaming metrics and musical attributes could have been aggregated from streaming services' API or charts, though specific documentation would be necessary to confirm.\n",
    "\n",
    "* Description of Observations:\n",
    "Observations include details on each song’s title, artist(s), release date, and musical attributes (e.g., tempo, key, mode, acousticness, danceability). There are also metrics related to streaming, such as chart ranks and playlist placements on various platforms.\n",
    "\n",
    "* Ethical Concerns:\n",
    "The primary ethical concern is the potential for data bias. Since popular songs are more likely to be Western or English-language songs, this could lead to cultural or genre bias in the analysis. Furthermore, if the data includes rankings or metrics derived from proprietary algorithms, care should be taken to avoid misuse or misinterpretation of these rankings."
   ]
  },
  {
   "cell_type": "markdown",
   "metadata": {},
   "source": [
    "Question: \n",
    "How do musical attributes (such as tempo, energy, and valence) affect a song’s popularity on Spotify as measured by the number of streams and inclusion in playlists?\n",
    "\n",
    "Importance: \n",
    "Understanding the relationship between musical attributes and popularity can be valuable for artists, producers, and streaming platforms to optimize song characteristics for a wider audience reach.\n",
    "\n",
    "Hypothesis: \n",
    "Higher energy and danceability correlate with higher popularity metrics, as listeners may prefer upbeat and energetic tracks.\n",
    "\n",
    "Variable Types:\n",
    "Categorical: Key, mode, release date\n",
    "Quantitative: Streams, danceability, valence, energy, acousticness, instrumentalness"
   ]
  },
  {
   "cell_type": "code",
   "execution_count": null,
   "metadata": {},
   "outputs": [],
   "source": []
  },
  {
   "cell_type": "markdown",
   "metadata": {},
   "source": [
    "# Dataset 3\n",
    "* Agriculture and Climate Data"
   ]
  }
 ],
 "metadata": {
  "language_info": {
   "name": "python"
  }
 },
 "nbformat": 4,
 "nbformat_minor": 2
}
