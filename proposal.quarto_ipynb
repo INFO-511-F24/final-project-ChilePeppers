{
  "cells": [
    {
      "cell_type": "markdown",
      "metadata": {},
      "source": [
        "---\n",
        "title: \"INFO511 Fall 2024 Project Proposal\"\n",
        "subtitle: \"Exploring evoling electric vehicle charging efficiency\"\n",
        "author: \n",
        "  - name: \"ChilePepper\"\n",
        "    affiliations:\n",
        "      - name: \"School of Information, University of Arizona\"\n",
        "description: \" The team has agreed to select the EV Charging Dataset for the project out of an interest to explore that evolving technical space and build predictive models for charging efficiency.\"\n",
        "\n",
        "format:\n",
        "  html:\n",
        "    code-tools: true\n",
        "    code-overflow: wrap\n",
        "    code-line-numbers: true\n",
        "    embed-resources: true\n",
        "editor: visual\n",
        "code-annotations: hover\n",
        "execute:\n",
        "  warning: false\n",
        "jupyter: python3\n",
        "---"
      ],
      "id": "8fbef967"
    },
    {
      "cell_type": "code",
      "metadata": {
        "message": false
      },
      "source": [
        "#| label: load-pkgs\n",
        "import warnings\n",
        "import pandas as pd\n",
        "import pandas as pd\n",
        "import numpy as np\n",
        "import matplotlib.pyplot as plt\n",
        "import seaborn as sns\n",
        "\n",
        "warnings.filterwarnings(\"ignore\")"
      ],
      "id": "load-pkgs",
      "execution_count": null,
      "outputs": []
    },
    {
      "cell_type": "markdown",
      "metadata": {},
      "source": [
        "## Introduction to the Data\n"
      ],
      "id": "c5d022ee"
    },
    {
      "cell_type": "code",
      "metadata": {
        "message": false
      },
      "source": [
        "#| label: load-dataset\n",
        "\n",
        "#url = \"https://raw.githubusercontent.com/INFO-511-F24/final-project-ChilePeppers/main/data/ev_charging_patterns.csv\"\n",
        "#ev_charging  = pd.read_csv(url)\n",
        "\n",
        "#url = \"https://raw.githubusercontent.com/INFO-511-F24/final-project-ChilePeppers/main/data/Spotify_Most_Streamed_Songs.csv\"\n",
        "\n",
        "#Spotify_db = pd.read_csv(url)\n",
        "\n",
        "#url = \"https://raw.githubusercontent.com/INFO-511-F24/final-project-ChilePeppers/main/data/Mobile_user_behavior_dataset.csv\"\n",
        "\n",
        "#mobile_data = pd.read_csv(url)"
      ],
      "id": "load-dataset",
      "execution_count": null,
      "outputs": []
    },
    {
      "cell_type": "markdown",
      "metadata": {},
      "source": [
        "## Dataset - Electric Vehicle Charging\n",
        "\n",
        "-   **Source of Data**: https://www.kaggle.com/datasets/valakhorasani/electric-vehicle-charging-patterns\n",
        "\n",
        "-   **Description of Observations**: This dataset provides a comprehensive analysis of electric vehicle (EV) charging patterns and user behavior. It contains 1,320 samples of charging session data, including metrics such as energy consumption, charging duration, and vehicle details. Each entry captures various aspects of EV usage, allowing for insightful analysis and predictive modeling.\n",
        "\n",
        "-   **Ethical Concerns**: The dataset has user IDs and specific charging station locations, which means there’s a chance it could reveal patterns in people’s movements and behaviors. To protect privacy, it’s important to keep user IDs anonymous and possibly generalize location data so individuals can’t be tracked. Researchers also need to handle this information carefully and follow data protection rules to use it responsibly.\n",
        "\n",
        "-   **Question**:\n",
        "\n",
        "    1.  How do vehicle model, user type, and starting state of charge influence the cost and duration of EV charging sessions at public stations?\n",
        "    2.  Exploring energy consumption and charging behaviors\n",
        "    3.  Building predictive models for charging efficiency\n",
        "\n",
        "-   Importance:Understanding the costs and durations associated with different EV types and user profiles can help:\n",
        "\n",
        "    -   Consumers make cost-effective charging decisions.\n",
        "    -   Charging service providers optimize station usage and pricing strategies by identifying patterns in energy demand and time usage.\n",
        "\n",
        "-   Hypothesis:\n",
        "\n",
        "    -   Vehicle Model: Larger battery capacity models will have longer charging times and higher costs.\n",
        "    -   User Type: Frequent users (like commuters) may incur lower costs per session due to shorter, more regular charging patterns.\n",
        "    -   Starting State of Charge: Lower starting charge levels are expected to lead to longer and more costly charging sessions.\n",
        "\n",
        "-   Variable Types: Categorical Variables: Vehicle Model, User Type Quantitative Variables: Charging Cost (USD), Charging Duration (hours), State of Charge (Start %)\n",
        "\n",
        "## Glimpse of the Data: Dataset 1 - EV Charging\n"
      ],
      "id": "2e49a12a"
    },
    {
      "cell_type": "code",
      "metadata": {},
      "source": [
        "print(f'Table 1: EV Charging Dataset, Summary of Column Headings:\\n\\n')\n",
        "ev_charging.head()"
      ],
      "id": "ccb8cdfc",
      "execution_count": null,
      "outputs": []
    },
    {
      "cell_type": "code",
      "metadata": {},
      "source": [
        "print(f'Table 2: EV Charging Dataset, Variables and their Type (Dtype)\\n\\n')\n",
        "\n",
        "ev_charging.info()"
      ],
      "id": "b2002ea6",
      "execution_count": null,
      "outputs": []
    },
    {
      "cell_type": "markdown",
      "metadata": {},
      "source": [
        "## Analysis Plan EV Charting Dataset\n",
        "\n",
        "The EV charging dataset comprises 20 columns, 10 object variables and 10 float64 variables. The analysis plan will be completed in three steps to answer the questions and hypothesis stated above.\n",
        "\n",
        "**Step 1**: A data wrangling effort to clean up the DataFrame and a graphical analysis of the dataset.\n",
        "\n",
        "**Step 2**: A statistical analysis of the dataset using (i) analysis of variance and (ii) mullivariable regression to understand patterns within the data.\n",
        "\n",
        "**Step 3**: Build a predictive model from the data to understand and predict user trends with respect to electric vehicle charging."
      ],
      "id": "9a6fea4a"
    }
  ],
  "metadata": {
    "kernelspec": {
      "name": "python3",
      "language": "python",
      "display_name": "Python 3 (ipykernel)",
      "path": "C:\\Users\\derek\\anaconda3\\share\\jupyter\\kernels\\python3"
    }
  },
  "nbformat": 4,
  "nbformat_minor": 5
}