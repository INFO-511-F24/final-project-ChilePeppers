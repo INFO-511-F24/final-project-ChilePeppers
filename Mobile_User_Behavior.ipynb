{
 "cells": [
  {
   "cell_type": "markdown",
   "metadata": {},
   "source": [
    "dataset: mobile-device-usage-and-user-behavior-dataset  \n",
    "source: https://www.kaggle.com/datasets/valakhorasani/mobile-device-usage-and-user-behavior-dataset\n",
    "\n",
    "This dataset provides a comprehensive analysis of mobile device usage patterns and user behavior classification. It contains 700 samples of user data, including metrics such as app usage time, screen-on time, battery drain, and data consumption. Each entry is categorized into one of five user behavior classes, ranging from light to extreme usage, allowing for insightful analysis and modeling."
   ]
  },
  {
   "cell_type": "code",
   "execution_count": 1,
   "metadata": {},
   "outputs": [],
   "source": [
    "import pandas as pd\n",
    "import numpy as np\n",
    "import matplotlib.pyplot as plt\n",
    "import seaborn as sns"
   ]
  },
  {
   "cell_type": "code",
   "execution_count": 2,
   "metadata": {},
   "outputs": [],
   "source": [
    "data = pd.read_csv('data/Mobile_user_behavior_dataset.csv')\n"
   ]
  },
  {
   "cell_type": "code",
   "execution_count": 3,
   "metadata": {},
   "outputs": [
    {
     "name": "stdout",
     "output_type": "stream",
     "text": [
      "<bound method DataFrame.info of      User ID        Device Model Operating System  App Usage Time (min/day)  \\\n",
      "0          1      Google Pixel 5          Android                       393   \n",
      "1          2           OnePlus 9          Android                       268   \n",
      "2          3        Xiaomi Mi 11          Android                       154   \n",
      "3          4      Google Pixel 5          Android                       239   \n",
      "4          5           iPhone 12              iOS                       187   \n",
      "..       ...                 ...              ...                       ...   \n",
      "695      696           iPhone 12              iOS                        92   \n",
      "696      697        Xiaomi Mi 11          Android                       316   \n",
      "697      698      Google Pixel 5          Android                        99   \n",
      "698      699  Samsung Galaxy S21          Android                        62   \n",
      "699      700           OnePlus 9          Android                       212   \n",
      "\n",
      "     Screen On Time (hours/day)  Battery Drain (mAh/day)  \\\n",
      "0                           6.4                     1872   \n",
      "1                           4.7                     1331   \n",
      "2                           4.0                      761   \n",
      "3                           4.8                     1676   \n",
      "4                           4.3                     1367   \n",
      "..                          ...                      ...   \n",
      "695                         3.9                     1082   \n",
      "696                         6.8                     1965   \n",
      "697                         3.1                      942   \n",
      "698                         1.7                      431   \n",
      "699                         5.4                     1306   \n",
      "\n",
      "     Number of Apps Installed  Data Usage (MB/day)  Age  Gender  \\\n",
      "0                          67                 1122   40    Male   \n",
      "1                          42                  944   47  Female   \n",
      "2                          32                  322   42    Male   \n",
      "3                          56                  871   20    Male   \n",
      "4                          58                  988   31  Female   \n",
      "..                        ...                  ...  ...     ...   \n",
      "695                        26                  381   22    Male   \n",
      "696                        68                 1201   59    Male   \n",
      "697                        22                  457   50  Female   \n",
      "698                        13                  224   44    Male   \n",
      "699                        49                  828   23  Female   \n",
      "\n",
      "     User Behavior Class  \n",
      "0                      4  \n",
      "1                      3  \n",
      "2                      2  \n",
      "3                      3  \n",
      "4                      3  \n",
      "..                   ...  \n",
      "695                    2  \n",
      "696                    4  \n",
      "697                    2  \n",
      "698                    1  \n",
      "699                    3  \n",
      "\n",
      "[700 rows x 11 columns]>\n"
     ]
    }
   ],
   "source": [
    "print(data.info)"
   ]
  },
  {
   "cell_type": "markdown",
   "metadata": {},
   "source": [
    "Topic Interest:\n",
    "\n",
    "\n",
    "Investigate user behavior and engagement patterns on mobile devices, focusing on usage patterns, app preferences, and screen time.\n",
    "The dataset is ideal for studying how users interact with technology, which is valuable for both behavioral and marketing insights.\n",
    "\n",
    "\n",
    "Justification:\n",
    "\n",
    "\n",
    "Familiarity: Mobile usage data is commonly explored, so there’s plenty of context to draw from.\n",
    "\n",
    "Rich Explanatory Variables: Includes unique columns like app usage duration, screen unlock counts, and screen time, providing multiple angles for analysis.\n",
    "\n",
    "Insight Potential: Analyzing device usage can reveal insights into user habits, preferences, and potential areas for app or service improvements."
   ]
  },
  {
   "cell_type": "code",
   "execution_count": 4,
   "metadata": {},
   "outputs": [
    {
     "name": "stdout",
     "output_type": "stream",
     "text": [
      "   User ID        Device Model Operating System  App Usage Time (min/day)  \\\n",
      "0        1      Google Pixel 5          Android                       393   \n",
      "1        2           OnePlus 9          Android                       268   \n",
      "2        3        Xiaomi Mi 11          Android                       154   \n",
      "3        4      Google Pixel 5          Android                       239   \n",
      "4        5           iPhone 12              iOS                       187   \n",
      "5        6      Google Pixel 5          Android                        99   \n",
      "6        7  Samsung Galaxy S21          Android                       350   \n",
      "7        8           OnePlus 9          Android                       543   \n",
      "8        9  Samsung Galaxy S21          Android                       340   \n",
      "9       10           iPhone 12              iOS                       424   \n",
      "\n",
      "   Screen On Time (hours/day)  Battery Drain (mAh/day)  \\\n",
      "0                         6.4                     1872   \n",
      "1                         4.7                     1331   \n",
      "2                         4.0                      761   \n",
      "3                         4.8                     1676   \n",
      "4                         4.3                     1367   \n",
      "5                         2.0                      940   \n",
      "6                         7.3                     1802   \n",
      "7                        11.4                     2956   \n",
      "8                         7.7                     2138   \n",
      "9                         6.6                     1957   \n",
      "\n",
      "   Number of Apps Installed  Data Usage (MB/day)  Age  Gender  \\\n",
      "0                        67                 1122   40    Male   \n",
      "1                        42                  944   47  Female   \n",
      "2                        32                  322   42    Male   \n",
      "3                        56                  871   20    Male   \n",
      "4                        58                  988   31  Female   \n",
      "5                        35                  564   31    Male   \n",
      "6                        66                 1054   21  Female   \n",
      "7                        82                 1702   31    Male   \n",
      "8                        75                 1053   42  Female   \n",
      "9                        75                 1301   42    Male   \n",
      "\n",
      "   User Behavior Class  \n",
      "0                    4  \n",
      "1                    3  \n",
      "2                    2  \n",
      "3                    3  \n",
      "4                    3  \n",
      "5                    2  \n",
      "6                    4  \n",
      "7                    5  \n",
      "8                    4  \n",
      "9                    4  \n"
     ]
    }
   ],
   "source": [
    "print(data.head(10))"
   ]
  }
 ],
 "metadata": {
  "kernelspec": {
   "display_name": "Python 3",
   "language": "python",
   "name": "python3"
  },
  "language_info": {
   "codemirror_mode": {
    "name": "ipython",
    "version": 3
   },
   "file_extension": ".py",
   "mimetype": "text/x-python",
   "name": "python",
   "nbconvert_exporter": "python",
   "pygments_lexer": "ipython3",
   "version": "3.12.5"
  }
 },
 "nbformat": 4,
 "nbformat_minor": 2
}
